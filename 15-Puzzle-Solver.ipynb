{
 "cells": [
  {
   "cell_type": "markdown",
   "metadata": {},
   "source": [
    "### My solution for 15-puzzle game with blank tile positioned in the bottom right corner. If the puzzle is unsolvable, the program will return message indicating unsolvability. For solvable puzzles, the program will return a list of tiles users need to swap. "
   ]
  },
  {
   "cell_type": "markdown",
   "metadata": {},
   "source": [
    "![15puzzle](15puzzle.jpg)"
   ]
  },
  {
   "cell_type": "markdown",
   "metadata": {},
   "source": [
    "### The input is a 16-elements list in which list index corresponds to assigned number of each cell (position number) as shown above. Then we put the value of each tile in its corresponding position in the input list. The value of blank tile will be zero. For example, to solve the problem shown below, our input will be [ 5, 1, 4, 8, 9, 6, 3, 11, 10, 2, 15, 7, 13, 14, 12, 0]. Putting the input into the solution function, we can get our results. "
   ]
  },
  {
   "cell_type": "markdown",
   "metadata": {},
   "source": [
    "![15puzzle_example](15puzzle_example.jpg)"
   ]
  },
  {
   "cell_type": "code",
   "execution_count": 63,
   "metadata": {},
   "outputs": [],
   "source": [
    "def is_even(sequence):\n",
    "    my_count = 0\n",
    "    for i, num in enumerate(sequence):\n",
    "        my_count += sum(num>num2 for num2 in sequence[i+1:]) \n",
    "    return not my_count % 2\n",
    "\n",
    "def is_solvable(a):\n",
    "    a15=a[:-1]\n",
    "    if is_even(a15):\n",
    "        return True\n",
    "    return False\n",
    "\n",
    "def find_neighbors(n):\n",
    "    n4=[n-4,n+4,n-1,n+1]\n",
    "    neighbors=[i for i in n4 if i in range(16)]\n",
    "    return neighbors\n",
    "\n",
    "def manhattan_distance(p_array):\n",
    "    distance=0\n",
    "    for i in range(len(p_array)):\n",
    "        p_num = p_array[i]-1\n",
    "        if p_num!=-1:\n",
    "            distance += abs(p_num%4-i%4) + abs(p_num//4-i//4)\n",
    "    return distance \n",
    "\n",
    "def wrong_tile_num(p_array):\n",
    "    num=0\n",
    "    for i in range(len(p_array)-1):\n",
    "        if i+1!=p_array[i]:\n",
    "            num+=1\n",
    "    return num\n",
    "\n",
    "def move(a,b,puzzle):\n",
    "    temp=puzzle[a]\n",
    "    puzzle[a]=puzzle[b]\n",
    "    puzzle[b]=temp\n",
    "    return puzzle\n",
    "\n",
    "def search(puzzle,current_pos,last_pos,steps,shown_patterns,searching):   \n",
    "    from operator import itemgetter\n",
    "    mypq=[]\n",
    "    cost=len(steps)+manhattan_distance(puzzle)\n",
    "    shown_patterns.append(puzzle.copy())\n",
    "    mypq.append([cost,puzzle.copy(),steps.copy()])\n",
    "    while searching:\n",
    "        mypq.sort(key=itemgetter(0))\n",
    "        min_node=mypq.pop(0)\n",
    "        steps=min_node[2]\n",
    "        if len(steps) >= 1:\n",
    "            current_pos=steps[-1]\n",
    "        if len(steps) >= 2:\n",
    "            last_pos=steps[-2]\n",
    "        neighbors=find_neighbors(current_pos)\n",
    "        puzzle=min_node[1]\n",
    "        for neighbor in neighbors:\n",
    "            if neighbor!=last_pos:\n",
    "                new_puzzle=move(neighbor,current_pos,puzzle.copy())\n",
    "                new_wrong_tiles=wrong_tile_num(new_puzzle)\n",
    "                newsteps=steps.copy()\n",
    "                newsteps.append(neighbor)\n",
    "                if new_wrong_tiles == 0:\n",
    "                    steps.append(15)\n",
    "                    searching=False\n",
    "                    break\n",
    "                shown_patterns.append(new_puzzle.copy())\n",
    "                new_cost=len(steps)+manhattan_distance(new_puzzle)\n",
    "                mypq.append([new_cost,new_puzzle.copy(),newsteps])\n",
    "        \n",
    "    return steps\n",
    "\n",
    "def solution(position):\n",
    "    if not is_solvable(position):\n",
    "        print('Unsolvable Puzzle')\n",
    "        return False\n",
    "    else:\n",
    "        shown_patterns=[]\n",
    "        count=0\n",
    "        searching=True\n",
    "        steps=search(position,15,15,[],[],1)\n",
    "        print('Solution:', steps)\n",
    "        return steps\n",
    "            "
   ]
  },
  {
   "cell_type": "code",
   "execution_count": 64,
   "metadata": {},
   "outputs": [
    {
     "name": "stdout",
     "output_type": "stream",
     "text": [
      "Unsolvable Puzzle\n"
     ]
    },
    {
     "data": {
      "text/plain": [
       "False"
      ]
     },
     "execution_count": 64,
     "metadata": {},
     "output_type": "execute_result"
    }
   ],
   "source": [
    "#Unsolvable puzzle\n",
    "solution([1,2,3,4,5,6,7,8,9,10,11,12,13,15,14,0])"
   ]
  },
  {
   "cell_type": "code",
   "execution_count": 65,
   "metadata": {},
   "outputs": [
    {
     "name": "stdout",
     "output_type": "stream",
     "text": [
      "Solution: [14, 10, 11, 7, 3, 2, 6, 5, 9, 8, 4, 0, 1, 5, 6, 10, 11, 15]\n"
     ]
    },
    {
     "data": {
      "text/plain": [
       "[14, 10, 11, 7, 3, 2, 6, 5, 9, 8, 4, 0, 1, 5, 6, 10, 11, 15]"
      ]
     },
     "execution_count": 65,
     "metadata": {},
     "output_type": "execute_result"
    }
   ],
   "source": [
    "#Solving the problem shown above\n",
    "solution([ 5, 1, 4, 8, 9, 6, 3, 11, 10, 2, 15, 7, 13, 14, 12, 0])"
   ]
  },
  {
   "cell_type": "markdown",
   "metadata": {},
   "source": [
    "### Numbers in the solution list are positions of tiles to be switched with blank tile. The order is from left to right. After performing all the tile switchings indicated by the solution list, user will obtain the goal puzzle pattern. "
   ]
  }
 ],
 "metadata": {
  "kernelspec": {
   "display_name": "Python 3",
   "language": "python",
   "name": "python3"
  },
  "language_info": {
   "codemirror_mode": {
    "name": "ipython",
    "version": 3
   },
   "file_extension": ".py",
   "mimetype": "text/x-python",
   "name": "python",
   "nbconvert_exporter": "python",
   "pygments_lexer": "ipython3",
   "version": "3.6.9"
  }
 },
 "nbformat": 4,
 "nbformat_minor": 2
}
